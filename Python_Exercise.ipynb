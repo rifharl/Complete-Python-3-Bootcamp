{
  "nbformat": 4,
  "nbformat_minor": 0,
  "metadata": {
    "colab": {
      "provenance": [],
      "toc_visible": true,
      "include_colab_link": true
    },
    "kernelspec": {
      "name": "python3",
      "display_name": "Python 3"
    },
    "language_info": {
      "name": "python"
    }
  },
  "cells": [
    {
      "cell_type": "markdown",
      "metadata": {
        "id": "view-in-github",
        "colab_type": "text"
      },
      "source": [
        "<a href=\"https://colab.research.google.com/github/rifharl/Complete-Python-3-Bootcamp/blob/master/Python_Exercise.ipynb\" target=\"_parent\"><img src=\"https://colab.research.google.com/assets/colab-badge.svg\" alt=\"Open In Colab\"/></a>"
      ]
    },
    {
      "cell_type": "markdown",
      "source": [
        "Asumsikan anda adalah data analyst di sebuah perusahaan X. Diberikan data penjualan dalam variabel `penjualan` di bawah dalam bentuk data struktur `list`, dimana index dalam list merepresentasikan bulan penjualan dimulai dari januari (0=januari, 1=februari, dst)"
      ],
      "metadata": {
        "id": "_K_vqspnm0zi"
      }
    },
    {
      "cell_type": "code",
      "source": [
        "penjualan = [20, 22, 28, 35, 45, 60, 65, 64, 50, 52, 57, 60]"
      ],
      "metadata": {
        "id": "3A9YzDU9nQSj"
      },
      "execution_count": null,
      "outputs": []
    },
    {
      "cell_type": "markdown",
      "source": [
        "## Question 1\n",
        "Berapa penjualan bulan November?"
      ],
      "metadata": {
        "id": "vx8AJwTtC6QY"
      }
    },
    {
      "cell_type": "code",
      "execution_count": null,
      "metadata": {
        "id": "pdNYVjhuC03r"
      },
      "outputs": [],
      "source": [
        "# akses komponen penjualan dengan menggunakan index pada list\n",
        "penjualan_november = # isi disini\n",
        "print(\"Penjualan bulan november adalah\", penjualan_november)"
      ]
    },
    {
      "cell_type": "markdown",
      "source": [
        "## Question 2\n",
        "Berapa pertumbuhan penjualan dari bulan maret ke april?\n",
        "Kalikan 100 untuk menampilkannya dalam persentase."
      ],
      "metadata": {
        "id": "Yvkb1xUaofa-"
      }
    },
    {
      "cell_type": "code",
      "source": [
        "# formula untuk growth = (nilai_akhir - nilai_awal) * 100 / nilai_awal\n",
        "growth = # isi disini\n",
        "print(\"Pertumbuhan penjualan dari maret ke april\", growth, \"%\")"
      ],
      "metadata": {
        "id": "gqvhwf3YoeQU",
        "colab": {
          "base_uri": "https://localhost:8080/"
        },
        "outputId": "159ecb32-19f7-4e8d-900c-0a9d600c8462"
      },
      "execution_count": null,
      "outputs": [
        {
          "output_type": "stream",
          "name": "stdout",
          "text": [
            "Pertumbuhan penjualan dari maret ke april 25.0 %\n"
          ]
        }
      ]
    },
    {
      "cell_type": "markdown",
      "source": [
        "## Question 3\n",
        "Dengan menggunakan loop, buatlah pernyataan pertumbuhan penjualan tiap bulannya. "
      ],
      "metadata": {
        "id": "Hqdsz4nBCAzm"
      }
    },
    {
      "cell_type": "code",
      "source": [
        "# masukkan code disini, bisa melengkapi code dibawah, atau boleh buat dari awal\n",
        "# boleh juga menggunakan variable tambahan yang didefinisi sendiri \n",
        "for i, data in enumerate(penjualan):\n",
        "  growth = # isi disini\n",
        "  print(\"Pertumbuhan bulan ke-\", i+1,\"adalah\", growth)"
      ],
      "metadata": {
        "id": "BUACyCbrCAX-"
      },
      "execution_count": null,
      "outputs": []
    },
    {
      "cell_type": "markdown",
      "source": [
        "## Question 4\n",
        "Buatlah fungsi dengan argumen `penjualan` dan `index_bulan`, yang menghasilkan output pertumbuhan penjualan pada bulan tersebut. Ingat index pada bulan januari (index 0) tidak memiliki nilai pertumbuhan penjualan. "
      ],
      "metadata": {
        "id": "SdJr_z-3D51O"
      }
    },
    {
      "cell_type": "code",
      "source": [
        "def hitung_pertumbuhan(penjualan, index_bulan):\n",
        "  # code disini\n",
        "  growth = #\n",
        "  return growth\n",
        "\n",
        "index_bulan = 5\n",
        "print(\"Pertumbuhan MoM penjualan bulan\", index_bulan, \"adalah\", hitung_pertumbuhan(penjualan, index_bulan))"
      ],
      "metadata": {
        "id": "oAhBJFCMD5Ko"
      },
      "execution_count": null,
      "outputs": []
    },
    {
      "cell_type": "markdown",
      "source": [
        "## Question 5\n",
        "Dikarenakan bisnis menginginkan data ditampilkan dalam bentuk tabel, pahami metode pembuatan dataframe dari penjualan berikut. (task ada dibawah setelah pendefinisian dataframe)"
      ],
      "metadata": {
        "id": "2fLz4MkgFAGx"
      }
    },
    {
      "cell_type": "code",
      "source": [
        "from datetime import datetime\n",
        "import pandas as pd\n",
        "import numpy as np"
      ],
      "metadata": {
        "id": "18lWdN7TFfOF"
      },
      "execution_count": null,
      "outputs": []
    },
    {
      "cell_type": "code",
      "source": [
        "dict_penjualan = {\n",
        "    'periode': pd.date_range(start=\"2021-01\", end=\"2022-01\", freq=\"1M\"),\n",
        "    'penjualan': penjualan\n",
        "}\n",
        "\n",
        "df = pd.DataFrame(dict_penjualan)\n",
        "df"
      ],
      "metadata": {
        "colab": {
          "base_uri": "https://localhost:8080/",
          "height": 426
        },
        "id": "07K8in6tE4iV",
        "outputId": "4789b024-455b-45c8-e445-bc470e86363e"
      },
      "execution_count": null,
      "outputs": [
        {
          "output_type": "execute_result",
          "data": {
            "text/plain": [
              "      periode  penjualan\n",
              "0  2021-01-31         20\n",
              "1  2021-02-28         22\n",
              "2  2021-03-31         28\n",
              "3  2021-04-30         35\n",
              "4  2021-05-31         45\n",
              "5  2021-06-30         60\n",
              "6  2021-07-31         65\n",
              "7  2021-08-31         64\n",
              "8  2021-09-30         50\n",
              "9  2021-10-31         52\n",
              "10 2021-11-30         57\n",
              "11 2021-12-31         60"
            ],
            "text/html": [
              "\n",
              "  <div id=\"df-9b962936-919b-41a0-8688-e2b148ce0fa1\">\n",
              "    <div class=\"colab-df-container\">\n",
              "      <div>\n",
              "<style scoped>\n",
              "    .dataframe tbody tr th:only-of-type {\n",
              "        vertical-align: middle;\n",
              "    }\n",
              "\n",
              "    .dataframe tbody tr th {\n",
              "        vertical-align: top;\n",
              "    }\n",
              "\n",
              "    .dataframe thead th {\n",
              "        text-align: right;\n",
              "    }\n",
              "</style>\n",
              "<table border=\"1\" class=\"dataframe\">\n",
              "  <thead>\n",
              "    <tr style=\"text-align: right;\">\n",
              "      <th></th>\n",
              "      <th>periode</th>\n",
              "      <th>penjualan</th>\n",
              "    </tr>\n",
              "  </thead>\n",
              "  <tbody>\n",
              "    <tr>\n",
              "      <th>0</th>\n",
              "      <td>2021-01-31</td>\n",
              "      <td>20</td>\n",
              "    </tr>\n",
              "    <tr>\n",
              "      <th>1</th>\n",
              "      <td>2021-02-28</td>\n",
              "      <td>22</td>\n",
              "    </tr>\n",
              "    <tr>\n",
              "      <th>2</th>\n",
              "      <td>2021-03-31</td>\n",
              "      <td>28</td>\n",
              "    </tr>\n",
              "    <tr>\n",
              "      <th>3</th>\n",
              "      <td>2021-04-30</td>\n",
              "      <td>35</td>\n",
              "    </tr>\n",
              "    <tr>\n",
              "      <th>4</th>\n",
              "      <td>2021-05-31</td>\n",
              "      <td>45</td>\n",
              "    </tr>\n",
              "    <tr>\n",
              "      <th>5</th>\n",
              "      <td>2021-06-30</td>\n",
              "      <td>60</td>\n",
              "    </tr>\n",
              "    <tr>\n",
              "      <th>6</th>\n",
              "      <td>2021-07-31</td>\n",
              "      <td>65</td>\n",
              "    </tr>\n",
              "    <tr>\n",
              "      <th>7</th>\n",
              "      <td>2021-08-31</td>\n",
              "      <td>64</td>\n",
              "    </tr>\n",
              "    <tr>\n",
              "      <th>8</th>\n",
              "      <td>2021-09-30</td>\n",
              "      <td>50</td>\n",
              "    </tr>\n",
              "    <tr>\n",
              "      <th>9</th>\n",
              "      <td>2021-10-31</td>\n",
              "      <td>52</td>\n",
              "    </tr>\n",
              "    <tr>\n",
              "      <th>10</th>\n",
              "      <td>2021-11-30</td>\n",
              "      <td>57</td>\n",
              "    </tr>\n",
              "    <tr>\n",
              "      <th>11</th>\n",
              "      <td>2021-12-31</td>\n",
              "      <td>60</td>\n",
              "    </tr>\n",
              "  </tbody>\n",
              "</table>\n",
              "</div>\n",
              "      <button class=\"colab-df-convert\" onclick=\"convertToInteractive('df-9b962936-919b-41a0-8688-e2b148ce0fa1')\"\n",
              "              title=\"Convert this dataframe to an interactive table.\"\n",
              "              style=\"display:none;\">\n",
              "        \n",
              "  <svg xmlns=\"http://www.w3.org/2000/svg\" height=\"24px\"viewBox=\"0 0 24 24\"\n",
              "       width=\"24px\">\n",
              "    <path d=\"M0 0h24v24H0V0z\" fill=\"none\"/>\n",
              "    <path d=\"M18.56 5.44l.94 2.06.94-2.06 2.06-.94-2.06-.94-.94-2.06-.94 2.06-2.06.94zm-11 1L8.5 8.5l.94-2.06 2.06-.94-2.06-.94L8.5 2.5l-.94 2.06-2.06.94zm10 10l.94 2.06.94-2.06 2.06-.94-2.06-.94-.94-2.06-.94 2.06-2.06.94z\"/><path d=\"M17.41 7.96l-1.37-1.37c-.4-.4-.92-.59-1.43-.59-.52 0-1.04.2-1.43.59L10.3 9.45l-7.72 7.72c-.78.78-.78 2.05 0 2.83L4 21.41c.39.39.9.59 1.41.59.51 0 1.02-.2 1.41-.59l7.78-7.78 2.81-2.81c.8-.78.8-2.07 0-2.86zM5.41 20L4 18.59l7.72-7.72 1.47 1.35L5.41 20z\"/>\n",
              "  </svg>\n",
              "      </button>\n",
              "      \n",
              "  <style>\n",
              "    .colab-df-container {\n",
              "      display:flex;\n",
              "      flex-wrap:wrap;\n",
              "      gap: 12px;\n",
              "    }\n",
              "\n",
              "    .colab-df-convert {\n",
              "      background-color: #E8F0FE;\n",
              "      border: none;\n",
              "      border-radius: 50%;\n",
              "      cursor: pointer;\n",
              "      display: none;\n",
              "      fill: #1967D2;\n",
              "      height: 32px;\n",
              "      padding: 0 0 0 0;\n",
              "      width: 32px;\n",
              "    }\n",
              "\n",
              "    .colab-df-convert:hover {\n",
              "      background-color: #E2EBFA;\n",
              "      box-shadow: 0px 1px 2px rgba(60, 64, 67, 0.3), 0px 1px 3px 1px rgba(60, 64, 67, 0.15);\n",
              "      fill: #174EA6;\n",
              "    }\n",
              "\n",
              "    [theme=dark] .colab-df-convert {\n",
              "      background-color: #3B4455;\n",
              "      fill: #D2E3FC;\n",
              "    }\n",
              "\n",
              "    [theme=dark] .colab-df-convert:hover {\n",
              "      background-color: #434B5C;\n",
              "      box-shadow: 0px 1px 3px 1px rgba(0, 0, 0, 0.15);\n",
              "      filter: drop-shadow(0px 1px 2px rgba(0, 0, 0, 0.3));\n",
              "      fill: #FFFFFF;\n",
              "    }\n",
              "  </style>\n",
              "\n",
              "      <script>\n",
              "        const buttonEl =\n",
              "          document.querySelector('#df-9b962936-919b-41a0-8688-e2b148ce0fa1 button.colab-df-convert');\n",
              "        buttonEl.style.display =\n",
              "          google.colab.kernel.accessAllowed ? 'block' : 'none';\n",
              "\n",
              "        async function convertToInteractive(key) {\n",
              "          const element = document.querySelector('#df-9b962936-919b-41a0-8688-e2b148ce0fa1');\n",
              "          const dataTable =\n",
              "            await google.colab.kernel.invokeFunction('convertToInteractive',\n",
              "                                                     [key], {});\n",
              "          if (!dataTable) return;\n",
              "\n",
              "          const docLinkHtml = 'Like what you see? Visit the ' +\n",
              "            '<a target=\"_blank\" href=https://colab.research.google.com/notebooks/data_table.ipynb>data table notebook</a>'\n",
              "            + ' to learn more about interactive tables.';\n",
              "          element.innerHTML = '';\n",
              "          dataTable['output_type'] = 'display_data';\n",
              "          await google.colab.output.renderOutput(dataTable, element);\n",
              "          const docLink = document.createElement('div');\n",
              "          docLink.innerHTML = docLinkHtml;\n",
              "          element.appendChild(docLink);\n",
              "        }\n",
              "      </script>\n",
              "    </div>\n",
              "  </div>\n",
              "  "
            ]
          },
          "metadata": {},
          "execution_count": 17
        }
      ]
    },
    {
      "cell_type": "markdown",
      "source": [
        "Dengan dataframe slicing, tampilkan data hanya pada bulan Juni, July, dan Agustus saja."
      ],
      "metadata": {
        "id": "Lvwfs8tdE5B8"
      }
    },
    {
      "cell_type": "code",
      "source": [
        "# code disini\n"
      ],
      "metadata": {
        "id": "gtfKS5vhHEme"
      },
      "execution_count": null,
      "outputs": []
    },
    {
      "cell_type": "markdown",
      "source": [
        "## Question 6\n",
        "Plot data tabel diatas untuk menampilkan data penjualan satu tahun dengan lineplot. Apa yang bisa kalian simpulkan dari hasil plot tersebut?"
      ],
      "metadata": {
        "id": "ehS3ul69HFLa"
      }
    },
    {
      "cell_type": "code",
      "source": [
        "import matplotlib.pyplot as plt\n",
        "import seaborn as sns\n",
        "\n",
        "sns.set()"
      ],
      "metadata": {
        "id": "daIEhS5IHPJT"
      },
      "execution_count": null,
      "outputs": []
    },
    {
      "cell_type": "code",
      "source": [
        "# tampilkan plot seperti dibawah (tidak perlu percis tidak apa-apa)"
      ],
      "metadata": {
        "colab": {
          "base_uri": "https://localhost:8080/",
          "height": 313
        },
        "id": "YjmJO8b9HOBQ",
        "outputId": "a379d6a9-d8af-41ea-e096-a0019a99f4aa"
      },
      "execution_count": null,
      "outputs": [
        {
          "output_type": "execute_result",
          "data": {
            "text/plain": [
              "<matplotlib.axes._subplots.AxesSubplot at 0x7fb11bae7d50>"
            ]
          },
          "metadata": {},
          "execution_count": 22
        },
        {
          "output_type": "display_data",
          "data": {
            "text/plain": [
              "<Figure size 432x288 with 1 Axes>"
            ],
            "image/png": "[encoded data removed]"
          },
          "metadata": {}
        }
      ]
    },
    {
      "cell_type": "code",
      "source": [],
      "metadata": {
        "id": "gVeOWO2RHY8Z"
      },
      "execution_count": null,
      "outputs": []
    }
  ]
}